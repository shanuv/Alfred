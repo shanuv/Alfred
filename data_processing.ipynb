{
 "cells": [
  {
   "cell_type": "code",
   "execution_count": 45,
   "metadata": {},
   "outputs": [],
   "source": [
    "#imports\n",
    "import pandas as pd\n",
    "import numpy as np\n",
    "import nltk\n",
    "#nltk.download('stopwords')\n",
    "#nltk.download('punkt')\n",
    "from nltk.corpus import stopwords \n",
    "from nltk.tokenize import word_tokenize\n",
    "from textblob import TextBlob\n",
    "from rake_nltk import Rake\n",
    "import json\n",
    "from profanity_check import predict, predict_prob"
   ]
  },
  {
   "cell_type": "code",
   "execution_count": 46,
   "metadata": {},
   "outputs": [],
   "source": [
    "#load camera dataset\n",
    "#dataframe = pd.read_csv(\"camera.csv\")\n",
    "dataframe = pd.read_csv(\"book.csv\")\n",
    "#dataframe = pd.read_csv(\"tool.csv\")\n",
    "#dataframe"
   ]
  },
  {
   "cell_type": "code",
   "execution_count": 47,
   "metadata": {},
   "outputs": [],
   "source": [
    "#sentiment analysis\n",
    "def get_sentiment(comment):\n",
    "    stop_words = set(stopwords.words('english'))\n",
    "    word_tokens = word_tokenize(comment) \n",
    "    filtered_sentence = [w for w in word_tokens if not w in stop_words] \n",
    "    filtered_sentence = [] \n",
    "  \n",
    "    for w in word_tokens: \n",
    "        if w not in stop_words: \n",
    "            filtered_sentence.append(w)\n",
    "    \n",
    "    sentiment_score = TextBlob(comment).sentiment.polarity\n",
    "    if(sentiment_score < -0.1):\n",
    "        sentiment = \"negative\"\n",
    "    elif(sentiment_score > 0.1):\n",
    "        sentiment = \"positive\"\n",
    "    else:\n",
    "        sentiment = \"neutral\"\n",
    "    return [sentiment_score, sentiment]"
   ]
  },
  {
   "cell_type": "code",
   "execution_count": 48,
   "metadata": {},
   "outputs": [],
   "source": [
    "#keyword extraction\n",
    "def get_keywords(comment):\n",
    "    r = Rake()\n",
    "    r.extract_keywords_from_text(comment)\n",
    "    keywords = r.get_ranked_phrases()\n",
    "    return keywords[:10]"
   ]
  },
  {
   "cell_type": "code",
   "execution_count": 49,
   "metadata": {},
   "outputs": [],
   "source": [
    "#vulgarity check\n",
    "def get_vulgarity(comment):\n",
    "    v = []\n",
    "    v.append(comment)\n",
    "    v = predict_prob(v)\n",
    "    return v"
   ]
  },
  {
   "cell_type": "code",
   "execution_count": 50,
   "metadata": {},
   "outputs": [],
   "source": [
    "#create objects\n",
    "all_data = dataframe.values\n",
    "\n",
    "data_list = []\n",
    "\n",
    "for data in all_data:\n",
    "    obj = {}\n",
    "    obj[\"product_id\"] = data[3]\n",
    "    obj[\"product_name\"] = data[5]\n",
    "    obj[\"product_category\"] = data[6]\n",
    "    obj[\"reviewer_id\"] = data[1]\n",
    "    obj[\"review_date\"] = data[14]\n",
    "    obj[\"review_header\"] = data[12]\n",
    "    obj[\"review_body\"] = data[13].replace(\"<br />\", '').replace('\\\\', '')\n",
    "    obj[\"star_rating\"] = data[7]\n",
    "    obj[\"sentiment_score\"] = get_sentiment(data[13].replace(\"<br />\", '').replace('\\\\', ''))[0]\n",
    "    obj[\"sentiment\"] = get_sentiment(data[13].replace(\"<br />\", '').replace('\\\\', ''))[1]\n",
    "    obj[\"keywords\"] = get_keywords(data[13].replace(\"<br />\", '').replace('\\\\', ''))\n",
    "    obj[\"vulgarity\"] = get_vulgarity(data[13].replace(\"<br />\", '').replace('\\\\', ''))[0]\n",
    "    data_list.append(obj)\n",
    "\n",
    "#data_list"
   ]
  },
  {
   "cell_type": "code",
   "execution_count": 51,
   "metadata": {},
   "outputs": [],
   "source": [
    "#save in json\n",
    "with open('alfred_data_book.json', 'w') as fout:\n",
    "    json.dump(data_list, fout)"
   ]
  },
  {
   "cell_type": "code",
   "execution_count": null,
   "metadata": {},
   "outputs": [],
   "source": []
  }
 ],
 "metadata": {
  "kernelspec": {
   "display_name": "Python 3",
   "language": "python",
   "name": "python3"
  },
  "language_info": {
   "codemirror_mode": {
    "name": "ipython",
    "version": 3
   },
   "file_extension": ".py",
   "mimetype": "text/x-python",
   "name": "python",
   "nbconvert_exporter": "python",
   "pygments_lexer": "ipython3",
   "version": "3.7.1"
  }
 },
 "nbformat": 4,
 "nbformat_minor": 2
}
